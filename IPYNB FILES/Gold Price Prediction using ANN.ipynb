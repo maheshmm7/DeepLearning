{
 "cells": [
  {
   "cell_type": "code",
   "execution_count": 1,
   "id": "4689d4b0",
   "metadata": {},
   "outputs": [],
   "source": [
    "import pandas as pd\n",
    "import numpy as np\n",
    "from sklearn.model_selection import train_test_split\n",
    "from sklearn.preprocessing import StandardScaler\n",
    "from sklearn.preprocessing import MinMaxScaler"
   ]
  },
  {
   "cell_type": "code",
   "execution_count": 2,
   "id": "a6842da1",
   "metadata": {},
   "outputs": [],
   "source": [
    "import tensorflow as tf\n",
    "from tensorflow import keras\n",
    "from tensorflow.keras import Sequential\n",
    "from tensorflow.keras.layers import Dense"
   ]
  },
  {
   "cell_type": "code",
   "execution_count": 3,
   "id": "7ff88f7a",
   "metadata": {},
   "outputs": [],
   "source": [
    "df = pd.read_csv(\"M:\\\\Deep Learning\\\\gld_price_data.csv\")"
   ]
  },
  {
   "cell_type": "code",
   "execution_count": 4,
   "id": "97f22731",
   "metadata": {},
   "outputs": [
    {
     "data": {
      "text/html": [
       "<div>\n",
       "<style scoped>\n",
       "    .dataframe tbody tr th:only-of-type {\n",
       "        vertical-align: middle;\n",
       "    }\n",
       "\n",
       "    .dataframe tbody tr th {\n",
       "        vertical-align: top;\n",
       "    }\n",
       "\n",
       "    .dataframe thead th {\n",
       "        text-align: right;\n",
       "    }\n",
       "</style>\n",
       "<table border=\"1\" class=\"dataframe\">\n",
       "  <thead>\n",
       "    <tr style=\"text-align: right;\">\n",
       "      <th></th>\n",
       "      <th>Date</th>\n",
       "      <th>SPX</th>\n",
       "      <th>GLD</th>\n",
       "      <th>USO</th>\n",
       "      <th>SLV</th>\n",
       "      <th>EUR/USD</th>\n",
       "    </tr>\n",
       "  </thead>\n",
       "  <tbody>\n",
       "    <tr>\n",
       "      <th>0</th>\n",
       "      <td>01/02/08</td>\n",
       "      <td>1447.160034</td>\n",
       "      <td>84.860001</td>\n",
       "      <td>78.470001</td>\n",
       "      <td>15.180</td>\n",
       "      <td>1.471692</td>\n",
       "    </tr>\n",
       "    <tr>\n",
       "      <th>1</th>\n",
       "      <td>01/03/08</td>\n",
       "      <td>1447.160034</td>\n",
       "      <td>85.570000</td>\n",
       "      <td>78.370003</td>\n",
       "      <td>15.285</td>\n",
       "      <td>1.474491</td>\n",
       "    </tr>\n",
       "    <tr>\n",
       "      <th>2</th>\n",
       "      <td>01/04/08</td>\n",
       "      <td>1411.630005</td>\n",
       "      <td>85.129997</td>\n",
       "      <td>77.309998</td>\n",
       "      <td>15.167</td>\n",
       "      <td>1.475492</td>\n",
       "    </tr>\n",
       "    <tr>\n",
       "      <th>3</th>\n",
       "      <td>01/07/08</td>\n",
       "      <td>1416.180054</td>\n",
       "      <td>84.769997</td>\n",
       "      <td>75.500000</td>\n",
       "      <td>15.053</td>\n",
       "      <td>1.468299</td>\n",
       "    </tr>\n",
       "    <tr>\n",
       "      <th>4</th>\n",
       "      <td>01/08/08</td>\n",
       "      <td>1390.189941</td>\n",
       "      <td>86.779999</td>\n",
       "      <td>76.059998</td>\n",
       "      <td>15.590</td>\n",
       "      <td>1.557099</td>\n",
       "    </tr>\n",
       "  </tbody>\n",
       "</table>\n",
       "</div>"
      ],
      "text/plain": [
       "       Date          SPX        GLD        USO     SLV   EUR/USD\n",
       "0  01/02/08  1447.160034  84.860001  78.470001  15.180  1.471692\n",
       "1  01/03/08  1447.160034  85.570000  78.370003  15.285  1.474491\n",
       "2  01/04/08  1411.630005  85.129997  77.309998  15.167  1.475492\n",
       "3  01/07/08  1416.180054  84.769997  75.500000  15.053  1.468299\n",
       "4  01/08/08  1390.189941  86.779999  76.059998  15.590  1.557099"
      ]
     },
     "execution_count": 4,
     "metadata": {},
     "output_type": "execute_result"
    }
   ],
   "source": [
    "df.head()"
   ]
  },
  {
   "cell_type": "code",
   "execution_count": 5,
   "id": "c1a76909",
   "metadata": {},
   "outputs": [],
   "source": [
    "X = df[['SPX','USO','SLV','EUR/USD']]\n",
    "y = df['GLD']"
   ]
  },
  {
   "cell_type": "code",
   "execution_count": 6,
   "id": "fccfa9f8",
   "metadata": {},
   "outputs": [],
   "source": [
    "X_train, X_test, y_train, y_test = train_test_split(X, y, test_size=0.2)"
   ]
  },
  {
   "cell_type": "code",
   "execution_count": 7,
   "id": "19ce1515",
   "metadata": {},
   "outputs": [],
   "source": [
    "scaler = MinMaxScaler()"
   ]
  },
  {
   "cell_type": "code",
   "execution_count": 8,
   "id": "8e709665",
   "metadata": {},
   "outputs": [],
   "source": [
    "X_train_scaled = scaler.fit_transform(X_train)\n",
    "X_test_scaled = scaler.transform(X_test)"
   ]
  },
  {
   "cell_type": "code",
   "execution_count": 9,
   "id": "3abcf0d4",
   "metadata": {},
   "outputs": [],
   "source": [
    "model = Sequential()"
   ]
  },
  {
   "cell_type": "code",
   "execution_count": 10,
   "id": "8961c643",
   "metadata": {},
   "outputs": [],
   "source": [
    "model.add(Dense(10,activation='relu',input_dim=4))\n",
    "model.add(Dense(10,activation='relu'))\n",
    "model.add(Dense(1,activation='linear'))"
   ]
  },
  {
   "cell_type": "code",
   "execution_count": 11,
   "id": "4a91d876",
   "metadata": {},
   "outputs": [],
   "source": [
    "model.compile(loss=\"mean_squared_error\",optimizer='Adam')"
   ]
  },
  {
   "cell_type": "code",
   "execution_count": 12,
   "id": "79c51d81",
   "metadata": {},
   "outputs": [
    {
     "name": "stdout",
     "output_type": "stream",
     "text": [
      "Epoch 1/50\n",
      "52/52 [==============================] - 1s 6ms/step - loss: 15491.0234 - val_loss: 16094.3926\n",
      "Epoch 2/50\n",
      "52/52 [==============================] - 0s 2ms/step - loss: 15392.5566 - val_loss: 15966.3057\n",
      "Epoch 3/50\n",
      "52/52 [==============================] - 0s 2ms/step - loss: 15207.8096 - val_loss: 15687.5664\n",
      "Epoch 4/50\n",
      "52/52 [==============================] - 0s 2ms/step - loss: 14841.5264 - val_loss: 15201.2119\n",
      "Epoch 5/50\n",
      "52/52 [==============================] - 0s 2ms/step - loss: 14265.4951 - val_loss: 14475.7500\n",
      "Epoch 6/50\n",
      "52/52 [==============================] - 0s 2ms/step - loss: 13424.9463 - val_loss: 13452.1934\n",
      "Epoch 7/50\n",
      "52/52 [==============================] - 0s 2ms/step - loss: 12298.1084 - val_loss: 12140.3018\n",
      "Epoch 8/50\n",
      "52/52 [==============================] - 0s 2ms/step - loss: 10908.0010 - val_loss: 10584.1240\n",
      "Epoch 9/50\n",
      "52/52 [==============================] - 0s 2ms/step - loss: 9311.2939 - val_loss: 8858.0596\n",
      "Epoch 10/50\n",
      "52/52 [==============================] - 0s 2ms/step - loss: 7606.9155 - val_loss: 7074.2437\n",
      "Epoch 11/50\n",
      "52/52 [==============================] - 0s 3ms/step - loss: 5918.2378 - val_loss: 5359.1001\n",
      "Epoch 12/50\n",
      "52/52 [==============================] - 0s 2ms/step - loss: 4367.6270 - val_loss: 3853.5305\n",
      "Epoch 13/50\n",
      "52/52 [==============================] - 0s 2ms/step - loss: 3066.5374 - val_loss: 2627.4661\n",
      "Epoch 14/50\n",
      "52/52 [==============================] - 0s 2ms/step - loss: 2071.6216 - val_loss: 1737.4480\n",
      "Epoch 15/50\n",
      "52/52 [==============================] - 0s 2ms/step - loss: 1390.5823 - val_loss: 1152.8702\n",
      "Epoch 16/50\n",
      "52/52 [==============================] - 0s 2ms/step - loss: 975.1528 - val_loss: 802.6626\n",
      "Epoch 17/50\n",
      "52/52 [==============================] - 0s 2ms/step - loss: 747.4880 - val_loss: 617.1395\n",
      "Epoch 18/50\n",
      "52/52 [==============================] - 0s 2ms/step - loss: 635.9363 - val_loss: 518.8864\n",
      "Epoch 19/50\n",
      "52/52 [==============================] - 0s 2ms/step - loss: 578.0801 - val_loss: 467.9670\n",
      "Epoch 20/50\n",
      "52/52 [==============================] - 0s 2ms/step - loss: 544.5470 - val_loss: 436.0576\n",
      "Epoch 21/50\n",
      "52/52 [==============================] - 0s 2ms/step - loss: 519.2393 - val_loss: 414.2252\n",
      "Epoch 22/50\n",
      "52/52 [==============================] - 0s 2ms/step - loss: 496.6980 - val_loss: 395.1563\n",
      "Epoch 23/50\n",
      "52/52 [==============================] - 0s 2ms/step - loss: 474.5903 - val_loss: 377.2892\n",
      "Epoch 24/50\n",
      "52/52 [==============================] - 0s 2ms/step - loss: 451.8287 - val_loss: 359.0262\n",
      "Epoch 25/50\n",
      "52/52 [==============================] - 0s 2ms/step - loss: 428.6228 - val_loss: 341.7037\n",
      "Epoch 26/50\n",
      "52/52 [==============================] - 0s 2ms/step - loss: 406.0625 - val_loss: 324.3398\n",
      "Epoch 27/50\n",
      "52/52 [==============================] - 0s 2ms/step - loss: 382.7522 - val_loss: 307.8088\n",
      "Epoch 28/50\n",
      "52/52 [==============================] - 0s 2ms/step - loss: 359.9511 - val_loss: 291.2416\n",
      "Epoch 29/50\n",
      "52/52 [==============================] - 0s 2ms/step - loss: 338.0997 - val_loss: 274.7209\n",
      "Epoch 30/50\n",
      "52/52 [==============================] - 0s 2ms/step - loss: 316.8971 - val_loss: 258.9003\n",
      "Epoch 31/50\n",
      "52/52 [==============================] - 0s 2ms/step - loss: 296.2441 - val_loss: 242.8580\n",
      "Epoch 32/50\n",
      "52/52 [==============================] - 0s 2ms/step - loss: 276.6963 - val_loss: 230.6169\n",
      "Epoch 33/50\n",
      "52/52 [==============================] - 0s 2ms/step - loss: 258.5426 - val_loss: 216.2909\n",
      "Epoch 34/50\n",
      "52/52 [==============================] - 0s 2ms/step - loss: 241.4693 - val_loss: 204.0445\n",
      "Epoch 35/50\n",
      "52/52 [==============================] - 0s 2ms/step - loss: 225.5874 - val_loss: 191.7078\n",
      "Epoch 36/50\n",
      "52/52 [==============================] - 0s 2ms/step - loss: 211.1217 - val_loss: 181.8115\n",
      "Epoch 37/50\n",
      "52/52 [==============================] - 0s 2ms/step - loss: 197.6829 - val_loss: 170.7028\n",
      "Epoch 38/50\n",
      "52/52 [==============================] - 0s 2ms/step - loss: 185.6305 - val_loss: 160.5421\n",
      "Epoch 39/50\n",
      "52/52 [==============================] - 0s 2ms/step - loss: 174.4556 - val_loss: 152.8930\n",
      "Epoch 40/50\n",
      "52/52 [==============================] - 0s 2ms/step - loss: 164.3049 - val_loss: 144.6265\n",
      "Epoch 41/50\n",
      "52/52 [==============================] - 0s 2ms/step - loss: 155.0541 - val_loss: 137.5184\n",
      "Epoch 42/50\n",
      "52/52 [==============================] - 0s 2ms/step - loss: 146.9810 - val_loss: 128.2460\n",
      "Epoch 43/50\n",
      "52/52 [==============================] - 0s 2ms/step - loss: 139.6117 - val_loss: 125.7688\n",
      "Epoch 44/50\n",
      "52/52 [==============================] - 0s 2ms/step - loss: 132.9078 - val_loss: 118.1134\n",
      "Epoch 45/50\n",
      "52/52 [==============================] - 0s 2ms/step - loss: 126.8205 - val_loss: 112.8001\n",
      "Epoch 46/50\n",
      "52/52 [==============================] - 0s 2ms/step - loss: 121.2979 - val_loss: 108.2092\n",
      "Epoch 47/50\n",
      "52/52 [==============================] - 0s 2ms/step - loss: 116.5498 - val_loss: 103.1711\n",
      "Epoch 48/50\n",
      "52/52 [==============================] - 0s 2ms/step - loss: 112.0283 - val_loss: 98.9280\n",
      "Epoch 49/50\n",
      "52/52 [==============================] - 0s 2ms/step - loss: 108.3474 - val_loss: 96.9369\n",
      "Epoch 50/50\n",
      "52/52 [==============================] - 0s 2ms/step - loss: 104.5193 - val_loss: 92.5774\n"
     ]
    }
   ],
   "source": [
    "history = model.fit(X_train_scaled,y_train,epochs=50,validation_split=0.1)"
   ]
  },
  {
   "cell_type": "code",
   "execution_count": 13,
   "id": "e909a099",
   "metadata": {},
   "outputs": [
    {
     "name": "stdout",
     "output_type": "stream",
     "text": [
      "15/15 [==============================] - 0s 929us/step\n"
     ]
    }
   ],
   "source": [
    "y_pred = model.predict(X_test_scaled)"
   ]
  },
  {
   "cell_type": "code",
   "execution_count": 14,
   "id": "53070c2d",
   "metadata": {},
   "outputs": [],
   "source": [
    "from sklearn.metrics import r2_score"
   ]
  },
  {
   "cell_type": "code",
   "execution_count": 15,
   "id": "e68c6756",
   "metadata": {},
   "outputs": [
    {
     "data": {
      "text/plain": [
       "0.8358782843036607"
      ]
     },
     "execution_count": 15,
     "metadata": {},
     "output_type": "execute_result"
    }
   ],
   "source": [
    "r2_score(y_test, y_pred)"
   ]
  },
  {
   "cell_type": "code",
   "execution_count": null,
   "id": "29c0bbfb",
   "metadata": {},
   "outputs": [],
   "source": []
  }
 ],
 "metadata": {
  "kernelspec": {
   "display_name": "Python 3 (ipykernel)",
   "language": "python",
   "name": "python3"
  },
  "language_info": {
   "codemirror_mode": {
    "name": "ipython",
    "version": 3
   },
   "file_extension": ".py",
   "mimetype": "text/x-python",
   "name": "python",
   "nbconvert_exporter": "python",
   "pygments_lexer": "ipython3",
   "version": "3.10.12"
  }
 },
 "nbformat": 4,
 "nbformat_minor": 5
}
