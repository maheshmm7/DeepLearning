{
 "cells": [
  {
   "cell_type": "code",
   "execution_count": 1,
   "id": "ae69426f",
   "metadata": {},
   "outputs": [],
   "source": [
    "import pandas as pd\n",
    "import numpy as np\n",
    "import matplotlib.pyplot as plt\n",
    "%matplotlib inline\n"
   ]
  },
  {
   "cell_type": "code",
   "execution_count": 2,
   "id": "3e997458",
   "metadata": {},
   "outputs": [],
   "source": [
    "import keras\n",
    "import tensorflow as tf\n",
    "from tensorflow import keras\n",
    "from keras.models import Sequential\n",
    "from tensorflow.keras.layers import Input, Conv2D, Dense, Flatten, Dropout\n",
    "from tensorflow.keras.layers import GlobalMaxPooling2D, MaxPooling2D\n",
    "from tensorflow.keras.models import Model\n",
    "from tensorflow.keras import regularizers, optimizers\n",
    "from tensorflow.keras.utils import to_categorical"
   ]
  },
  {
   "cell_type": "code",
   "execution_count": 3,
   "id": "fbb2f72f",
   "metadata": {},
   "outputs": [],
   "source": [
    "from sklearn.metrics import accuracy_score"
   ]
  },
  {
   "cell_type": "code",
   "execution_count": 4,
   "id": "60db6e3b",
   "metadata": {},
   "outputs": [],
   "source": [
    "from tensorflow.keras.datasets import cifar10"
   ]
  },
  {
   "cell_type": "code",
   "execution_count": 5,
   "id": "dd2d798a",
   "metadata": {},
   "outputs": [],
   "source": [
    "(X_train, y_train),(X_test, y_test) = cifar10.load_data()"
   ]
  },
  {
   "cell_type": "code",
   "execution_count": 6,
   "id": "0dfab601",
   "metadata": {},
   "outputs": [
    {
     "data": {
      "text/plain": [
       "<matplotlib.image.AxesImage at 0x13b7acb0490>"
      ]
     },
     "execution_count": 6,
     "metadata": {},
     "output_type": "execute_result"
    },
    {
     "data": {
      "image/png": "[encoded data removed]",
      "text/plain": [
       "<Figure size 640x480 with 1 Axes>"
      ]
     },
     "metadata": {},
     "output_type": "display_data"
    }
   ],
   "source": [
    "plt.imshow(X_train[0])"
   ]
  },
  {
   "cell_type": "code",
   "execution_count": 7,
   "id": "435dd93b",
   "metadata": {},
   "outputs": [
    {
     "data": {
      "text/plain": [
       "<matplotlib.image.AxesImage at 0x13b7d2fc160>"
      ]
     },
     "execution_count": 7,
     "metadata": {},
     "output_type": "execute_result"
    },
    {
     "data": {
      "image/png": "[encoded data removed]",
      "text/plain": [
       "<Figure size 640x480 with 1 Axes>"
      ]
     },
     "metadata": {},
     "output_type": "display_data"
    }
   ],
   "source": [
    "plt.imshow(X_train[5])"
   ]
  },
  {
   "cell_type": "code",
   "execution_count": 8,
   "id": "a4b4b8a0",
   "metadata": {},
   "outputs": [],
   "source": [
    "### NORMALIZE THE DATA\n",
    "X_train = X_train/255\n",
    "X_test = X_test/255"
   ]
  },
  {
   "cell_type": "code",
   "execution_count": 9,
   "id": "3765dcd4",
   "metadata": {},
   "outputs": [],
   "source": [
    "y_train_en = to_categorical(y_train,10)"
   ]
  },
  {
   "cell_type": "code",
   "execution_count": 10,
   "id": "fc0d5143",
   "metadata": {},
   "outputs": [],
   "source": [
    "y_test_en = to_categorical(y_test, 10)"
   ]
  },
  {
   "cell_type": "code",
   "execution_count": 14,
   "id": "8cfc8a3f",
   "metadata": {},
   "outputs": [],
   "source": [
    "model = Sequential()\n",
    "model.add(Conv2D(32,(4,4),input_shape=(32,32,3),activation='relu'))\n",
    "model.add(MaxPooling2D(pool_size=(2,2)))\n",
    "model.add(Conv2D(32,(4,4),input_shape=(32,32,3),activation='relu'))\n",
    "model.add(MaxPooling2D(pool_size=(2,2)))\n",
    "\n",
    "model.add(Flatten())\n",
    "\n",
    "model.add(Dense(128,activation='relu'))\n",
    "model.add(Dense(10,activation='softmax'))\n",
    "\n",
    "model.compile(loss='categorical_crossentropy',optimizer='adam',metrics=['accuracy'])\n"
   ]
  },
  {
   "cell_type": "code",
   "execution_count": 15,
   "id": "8def755c",
   "metadata": {},
   "outputs": [
    {
     "name": "stdout",
     "output_type": "stream",
     "text": [
      "Model: \"sequential_1\"\n",
      "_________________________________________________________________\n",
      " Layer (type)                Output Shape              Param #   \n",
      "=================================================================\n",
      " conv2d_2 (Conv2D)           (None, 29, 29, 32)        1568      \n",
      "                                                                 \n",
      " max_pooling2d_2 (MaxPooling  (None, 14, 14, 32)       0         \n",
      " 2D)                                                             \n",
      "                                                                 \n",
      " conv2d_3 (Conv2D)           (None, 11, 11, 32)        16416     \n",
      "                                                                 \n",
      " max_pooling2d_3 (MaxPooling  (None, 5, 5, 32)         0         \n",
      " 2D)                                                             \n",
      "                                                                 \n",
      " flatten_1 (Flatten)         (None, 800)               0         \n",
      "                                                                 \n",
      " dense_2 (Dense)             (None, 128)               102528    \n",
      "                                                                 \n",
      " dense_3 (Dense)             (None, 10)                1290      \n",
      "                                                                 \n",
      "=================================================================\n",
      "Total params: 121,802\n",
      "Trainable params: 121,802\n",
      "Non-trainable params: 0\n",
      "_________________________________________________________________\n"
     ]
    }
   ],
   "source": [
    "model.summary()"
   ]
  },
  {
   "cell_type": "code",
   "execution_count": 16,
   "id": "17df3b35",
   "metadata": {},
   "outputs": [
    {
     "name": "stdout",
     "output_type": "stream",
     "text": [
      "Epoch 1/20\n",
      "1563/1563 [==============================] - 15s 9ms/step - loss: 1.5117 - accuracy: 0.4516 - val_loss: 1.2852 - val_accuracy: 0.5446\n",
      "Epoch 2/20\n",
      "1563/1563 [==============================] - 17s 11ms/step - loss: 1.1913 - accuracy: 0.5785 - val_loss: 1.1113 - val_accuracy: 0.6145\n",
      "Epoch 3/20\n",
      "1563/1563 [==============================] - 15s 9ms/step - loss: 1.0503 - accuracy: 0.6320 - val_loss: 1.0502 - val_accuracy: 0.6345\n",
      "Epoch 4/20\n",
      "1563/1563 [==============================] - 14s 9ms/step - loss: 0.9523 - accuracy: 0.6659 - val_loss: 1.0415 - val_accuracy: 0.6390\n",
      "Epoch 5/20\n",
      "1563/1563 [==============================] - 15s 10ms/step - loss: 0.8735 - accuracy: 0.6935 - val_loss: 0.9566 - val_accuracy: 0.6699\n",
      "Epoch 6/20\n",
      "1563/1563 [==============================] - 15s 10ms/step - loss: 0.8158 - accuracy: 0.7157 - val_loss: 0.9524 - val_accuracy: 0.6715\n",
      "Epoch 7/20\n",
      "1563/1563 [==============================] - 14s 9ms/step - loss: 0.7597 - accuracy: 0.7318 - val_loss: 0.9476 - val_accuracy: 0.6812\n",
      "Epoch 8/20\n",
      "1563/1563 [==============================] - 14s 9ms/step - loss: 0.7149 - accuracy: 0.7486 - val_loss: 0.9174 - val_accuracy: 0.6907\n",
      "Epoch 9/20\n",
      "1563/1563 [==============================] - 15s 10ms/step - loss: 0.6686 - accuracy: 0.7653 - val_loss: 0.9857 - val_accuracy: 0.6796\n",
      "Epoch 10/20\n",
      "1563/1563 [==============================] - 17s 11ms/step - loss: 0.6332 - accuracy: 0.7754 - val_loss: 0.9688 - val_accuracy: 0.6817\n",
      "Epoch 11/20\n",
      "1563/1563 [==============================] - 14s 9ms/step - loss: 0.5942 - accuracy: 0.7898 - val_loss: 1.0018 - val_accuracy: 0.6856\n",
      "Epoch 12/20\n",
      "1563/1563 [==============================] - 16s 10ms/step - loss: 0.5609 - accuracy: 0.8002 - val_loss: 1.0122 - val_accuracy: 0.6897\n",
      "Epoch 13/20\n",
      "1563/1563 [==============================] - 14s 9ms/step - loss: 0.5290 - accuracy: 0.8136 - val_loss: 1.0499 - val_accuracy: 0.6821\n",
      "Epoch 14/20\n",
      "1563/1563 [==============================] - 14s 9ms/step - loss: 0.4965 - accuracy: 0.8245 - val_loss: 1.0839 - val_accuracy: 0.6829\n",
      "Epoch 15/20\n",
      "1563/1563 [==============================] - 14s 9ms/step - loss: 0.4651 - accuracy: 0.8346 - val_loss: 1.1371 - val_accuracy: 0.6783\n",
      "Epoch 16/20\n",
      "1563/1563 [==============================] - 16s 10ms/step - loss: 0.4378 - accuracy: 0.8426 - val_loss: 1.1912 - val_accuracy: 0.6740\n",
      "Epoch 17/20\n",
      "1563/1563 [==============================] - 15s 9ms/step - loss: 0.4087 - accuracy: 0.8540 - val_loss: 1.2280 - val_accuracy: 0.6758\n",
      "Epoch 18/20\n",
      "1563/1563 [==============================] - 18s 12ms/step - loss: 0.3838 - accuracy: 0.8628 - val_loss: 1.3215 - val_accuracy: 0.6695\n",
      "Epoch 19/20\n",
      "1563/1563 [==============================] - 17s 11ms/step - loss: 0.3596 - accuracy: 0.8711 - val_loss: 1.3273 - val_accuracy: 0.6740\n",
      "Epoch 20/20\n",
      "1563/1563 [==============================] - 17s 11ms/step - loss: 0.3462 - accuracy: 0.8753 - val_loss: 1.3639 - val_accuracy: 0.6769\n"
     ]
    }
   ],
   "source": [
    "history = model.fit(X_train, y_train_en, epochs=20,verbose=1,validation_data=(X_test,y_test_en))"
   ]
  },
  {
   "cell_type": "code",
   "execution_count": null,
   "id": "67bd26aa",
   "metadata": {},
   "outputs": [],
   "source": []
  }
 ],
 "metadata": {
  "kernelspec": {
   "display_name": "Python 3 (ipykernel)",
   "language": "python",
   "name": "python3"
  },
  "language_info": {
   "codemirror_mode": {
    "name": "ipython",
    "version": 3
   },
   "file_extension": ".py",
   "mimetype": "text/x-python",
   "name": "python",
   "nbconvert_exporter": "python",
   "pygments_lexer": "ipython3",
   "version": "3.10.12"
  }
 },
 "nbformat": 4,
 "nbformat_minor": 5
}
